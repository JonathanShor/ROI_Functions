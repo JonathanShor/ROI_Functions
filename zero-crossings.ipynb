{
 "cells": [
  {
   "cell_type": "markdown",
   "metadata": {},
   "source": [
    "# Compare zero-crossings to auto-detected sniff inhalation onsets\n",
    "### Get zero crossings"
   ]
  },
  {
   "cell_type": "code",
   "execution_count": 1,
   "metadata": {},
   "outputs": [
    {
     "name": "stdout",
     "output_type": "stream",
     "text": [
      "{'1953_1_04_D2019_6_3T12_29_13_odor.h5': array([False, False, False, ..., False, False, False])}\n"
     ]
    }
   ],
   "source": [
    "import zerocrossing\n",
    "rootpath = \"./data/190603/\"\n",
    "files = [\"1953_1_04_D2019_6_3T12_29_13_odor.h5\"]\n",
    "# files = [\"1953_1_05_D2019_6_3T12_47_22_odor.h5\"]\n",
    "crossings = zerocrossing.getCrossingsFromFiles(files, rootpath)\n",
    "# Only one file, so let's get rid of the dict\n",
    "print(crossings)\n",
    "crossings = crossings[files[0]]"
   ]
  },
  {
   "cell_type": "code",
   "execution_count": 2,
   "metadata": {},
   "outputs": [
    {
     "name": "stdout",
     "output_type": "stream",
     "text": [
      "len(crossings) = 391406\n"
     ]
    }
   ],
   "source": [
    "print(f\"len(crossings) = {len(crossings)}\")\n",
    "# [[len(x) for x in crossing[:5]] for crossing in crossings]"
   ]
  },
  {
   "cell_type": "code",
   "execution_count": 3,
   "metadata": {},
   "outputs": [],
   "source": [
    "# [(len(x.nonzero()[0])) for x in crossings[1]]"
   ]
  },
  {
   "cell_type": "code",
   "execution_count": 4,
   "metadata": {},
   "outputs": [],
   "source": [
    "# print(f\"All events have exactly one crossing? {all([all([(len(x.nonzero()[0]) == 1) for x in y]) for y in crossings])}\")"
   ]
  },
  {
   "cell_type": "code",
   "execution_count": 5,
   "metadata": {},
   "outputs": [
    {
     "name": "stdout",
     "output_type": "stream",
     "text": [
      "[   121    272    427 ... 390494 391091 391393]\n",
      "1140\n"
     ]
    }
   ],
   "source": [
    "# Crossing positions\n",
    "print(crossings.nonzero()[0])\n",
    "print(len(crossings.nonzero()[0]))"
   ]
  },
  {
   "cell_type": "markdown",
   "metadata": {},
   "source": [
    "### Get Events data to assign timestamp to zero crossings"
   ]
  },
  {
   "cell_type": "code",
   "execution_count": 8,
   "metadata": {},
   "outputs": [
    {
     "name": "stdout",
     "output_type": "stream",
     "text": [
      "Total frame triggers: 11679\n"
     ]
    }
   ],
   "source": [
    "import h5py\n",
    "sniffIndexes = zerocrossing.getSniffIndexesByTrialEvents(rootpath + files[0])\n",
    "crossingTimestamps = []\n",
    "with h5py.File(rootpath + files[0], \"r\") as h5File:\n",
    "    numFrameTriggers = sum([sum([len(x) for x in h5File[\"Trial{:04d}\".format(i_trial)][\"frame_triggers\"]]) for i_trial in range(1,46)])\n",
    "    print(f\"Total frame triggers: {numFrameTriggers}\")\n",
    "    for i_trial, trialSniffIndexes in enumerate(sniffIndexes):\n",
    "        events = h5File[\"Trial{:04d}\".format(i_trial+1)][\"Events\"]\n",
    "        timestamps = []\n",
    "        for i_sample, sampleSniffIndexes in enumerate(trialSniffIndexes):\n",
    "            sample = crossings[sampleSniffIndexes]\n",
    "            crossingIndexes = sample.nonzero()[0]\n",
    "            # Need negative offsets -- matching Events packet_sent_time is ending timestamp\n",
    "            offsets = crossingIndexes - len(sample)\n",
    "            timestamps.append(events[\"packet_sent_time\"][i_sample] + offsets)\n",
    "            if i_sample > 0:\n",
    "                # confirm 1kHz sample-rate\n",
    "                assert (len(sample) + events[\"packet_sent_time\"][i_sample - 1]) == events[\"packet_sent_time\"][i_sample]\n",
    "        crossingTimestamps.append(timestamps)\n"
   ]
  },
  {
   "cell_type": "code",
   "execution_count": 15,
   "metadata": {},
   "outputs": [
    {
     "name": "stdout",
     "output_type": "stream",
     "text": [
      "0\n",
      "[1, 3, 2, 1, 1, 1, 2, 2, 1, 1, 1, 2, 2, 1, 2, 2, 1, 1, 1, 1, 2, 2, 2, 2, 1, 2, 2, 1, 2, 1, 2, 1, 1, 1, 1, 2, 2, 2, 2, 2, 2, 1, 2, 1, 2]\n",
      "[0, 0, 0, 0, 0, 0, 0, 0, 1, 0, 0, 0, 0, 0, 0, 0, 0, 0, 0, 1, 0, 0, 0, 0, 0, 0, 0, 0, 0, 0, 1, 0, 0, 0, 0, 0, 0, 0, 0, 0, 0, 0, 0, 1, 0, 0, 0, 0, 0, 0, 0, 0, 1, 0, 0, 0, 0, 0, 0, 0, 1, 0, 0, 0, 0, 0, 0, 0, 0, 0, 0, 1, 0, 0, 0, 0, 0, 0, 0, 0, 0, 0, 1, 0, 0, 0, 0, 0, 0, 0, 0, 0, 0, 0, 1, 0, 0, 0, 0, 0, 0, 0, 1, 0, 0, 0, 0, 1, 0, 0, 0, 0, 0, 0, 0, 0, 1, 0, 0, 0, 0, 0, 0, 0, 0, 0, 1, 0, 0, 0, 0, 0, 0, 0, 0, 0, 0, 1, 0, 0, 0, 0, 0, 0, 0, 0, 1, 0, 0, 0, 0, 0, 0, 0, 1, 0, 0, 0, 0, 0, 0, 0, 0, 0, 0, 0, 0, 0, 0, 2, 0, 0, 0, 0, 0, 0, 0, 0, 0, 0, 0, 0, 0, 1, 0, 0, 0, 0, 0, 0, 0, 0, 0, 0, 0, 0, 0, 0, 0, 0, 0, 0, 0, 0, 0, 0, 0, 0, 0, 0, 0, 0, 0, 0, 0, 1, 0, 0, 0, 0, 0, 0, 0, 1, 0, 0, 0, 0, 1, 0, 0, 1, 0, 0, 1, 0, 0, 1, 0, 0, 0, 1, 0, 0, 1, 0, 0, 1, 0, 0, 0, 1]\n"
     ]
    }
   ],
   "source": [
    "print(len(crossingTimestamps[15][0]))\n",
    "print([max([len(x) for x in y]) for y in crossingTimestamps])\n",
    "print([len(x) for x in crossingTimestamps[15]])"
   ]
  },
  {
   "cell_type": "markdown",
   "metadata": {},
   "source": [
    "### Compare crossings to auto-detected inhalation onset timestamps"
   ]
  },
  {
   "cell_type": "code",
   "execution_count": 16,
   "metadata": {},
   "outputs": [
    {
     "name": "stdout",
     "output_type": "stream",
     "text": [
      "Any matches? True\n"
     ]
    }
   ],
   "source": [
    "exactMatches = []\n",
    "with h5py.File(rootpath + files[0], \"r\") as h5File:\n",
    "    trials = h5File['Trials']\n",
    "    inhalationOnsets = trials['inh_onset']\n",
    "    for i_trial, onsetTimestamp in enumerate(inhalationOnsets):\n",
    "        curCrossings = crossingTimestamps[i_trial]\n",
    "        exactMatches.append(any([onsetTimestamp in eventCrossings for eventCrossings in curCrossings]))\n",
    "print(f\"Any matches? {any(exactMatches)}\")"
   ]
  },
  {
   "cell_type": "code",
   "execution_count": 17,
   "metadata": {},
   "outputs": [
    {
     "name": "stdout",
     "output_type": "stream",
     "text": [
      "2 matches out of 45 trials, at trial numbers [36 39].\n"
     ]
    }
   ],
   "source": [
    "import numpy as np\n",
    "print(f\"{sum(exactMatches)} matches out of {len(exactMatches)} trials, at trial numbers {np.nonzero(exactMatches)[0]}.\")"
   ]
  },
  {
   "cell_type": "markdown",
   "metadata": {},
   "source": [
    "### Get frames corresponding to each timestamp"
   ]
  },
  {
   "cell_type": "code",
   "execution_count": null,
   "metadata": {},
   "outputs": [],
   "source": [
    "frameTimestamps = []\n",
    "with h5py.File(rootpath + files[0], \"r\") as h5File:\n",
    "    for i_trial, crossing in enumerate(crossings[1:]):\n",
    "        frameTriggers = h5File[\"Trial{:04d}\".format(i_trial+1+1)][\"frame_triggers\"]\n",
    "        print(len(frameTriggers))\n",
    "        print(type(frameTriggers))\n",
    "        print(type(frameTriggers[0]))\n",
    "#         print(frameTriggers[0])\n"
   ]
  },
  {
   "cell_type": "code",
   "execution_count": null,
   "metadata": {},
   "outputs": [],
   "source": []
  }
 ],
 "metadata": {
  "kernelspec": {
   "display_name": "Python 3",
   "language": "python",
   "name": "python3"
  },
  "language_info": {
   "codemirror_mode": {
    "name": "ipython",
    "version": 3
   },
   "file_extension": ".py",
   "mimetype": "text/x-python",
   "name": "python",
   "nbconvert_exporter": "python",
   "pygments_lexer": "ipython3",
   "version": "3.7.3"
  }
 },
 "nbformat": 4,
 "nbformat_minor": 2
}
