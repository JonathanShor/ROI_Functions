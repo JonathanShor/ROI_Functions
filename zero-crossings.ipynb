{
 "cells": [
  {
   "cell_type": "markdown",
   "metadata": {},
   "source": [
    "# Compare zero-crossings to auto-detected sniff inhalation onsets\n",
    "### Get zero crossings"
   ]
  },
  {
   "cell_type": "code",
   "execution_count": 1,
   "metadata": {},
   "outputs": [],
   "source": [
    "import zerocrossing\n",
    "rootpath = \"./data/\"\n",
    "files = [\"190603/1953_1_04_D2019_6_3T12_29_13_odor.h5\"]\n",
    "crossings = zerocrossing.getCrossingsFromFiles(files, rootpath)\n",
    "# Only one file, so let's get rid of the dict\n",
    "crossings = crossings[files[0]]"
   ]
  },
  {
   "cell_type": "code",
   "execution_count": 16,
   "metadata": {},
   "outputs": [
    {
     "name": "stdout",
     "output_type": "stream",
     "text": [
      "len(crossings) = 45\n"
     ]
    },
    {
     "data": {
      "text/plain": [
       "[[245, 85, 36],\n",
       " [85, 39, 35, 179, 84],\n",
       " [61, 38, 36, 53, 46],\n",
       " [69, 37, 17, 56, 103],\n",
       " [105, 42, 37, 89, 45],\n",
       " [67, 36, 16, 57, 47],\n",
       " [69, 38, 36, 57, 28],\n",
       " [70, 38, 36, 60, 47],\n",
       " [69, 37, 17, 60, 48],\n",
       " [69, 37, 37, 61, 47],\n",
       " [73, 37, 17, 65, 45],\n",
       " [69, 35, 15, 57, 48],\n",
       " [67, 36, 16, 60, 48],\n",
       " [69, 37, 17, 56, 30],\n",
       " [70, 38, 35, 61, 48],\n",
       " [89, 37, 34, 60, 47],\n",
       " [141, 90, 36, 88, 48],\n",
       " [67, 36, 36, 61, 48],\n",
       " [72, 35, 16, 56, 50],\n",
       " [69, 38, 36, 57, 48],\n",
       " [68, 37, 17, 56, 50],\n",
       " [70, 38, 35, 66, 44],\n",
       " [71, 38, 35, 60, 48],\n",
       " [69, 38, 16, 60, 48],\n",
       " [69, 37, 17, 60, 48],\n",
       " [72, 34, 17, 60, 49],\n",
       " [72, 39, 34, 60, 50],\n",
       " [69, 38, 36, 64, 47],\n",
       " [71, 38, 34, 57, 29],\n",
       " [71, 38, 35, 66, 85],\n",
       " [68, 35, 16, 65, 45],\n",
       " [71, 35, 17, 138, 156],\n",
       " [97, 38, 36, 57, 28],\n",
       " [139, 88, 36, 60, 47],\n",
       " [72, 35, 17, 60, 48],\n",
       " [73, 38, 17, 56, 30],\n",
       " [70, 37, 36, 66, 44],\n",
       " [69, 37, 17, 57, 27],\n",
       " [135, 85, 35, 66, 44],\n",
       " [68, 36, 16, 60, 49],\n",
       " [78, 38, 36, 126, 48],\n",
       " [71, 37, 35, 61, 49],\n",
       " [72, 35, 36, 60, 47],\n",
       " [71, 38, 34, 57, 28],\n",
       " [70, 38, 35, 56, 48]]"
      ]
     },
     "execution_count": 16,
     "metadata": {},
     "output_type": "execute_result"
    }
   ],
   "source": [
    "print(f\"len(crossings) = {len(crossings)}\")\n",
    "[[len(x) for x in crossing[:5]] for crossing in crossings] "
   ]
  },
  {
   "cell_type": "code",
   "execution_count": 3,
   "metadata": {},
   "outputs": [
    {
     "data": {
      "text/plain": [
       "(array([ 22, 121, 163]),)"
      ]
     },
     "execution_count": 3,
     "metadata": {},
     "output_type": "execute_result"
    }
   ],
   "source": [
    "# Crossing positions in first sniff sampling \n",
    "crossings[0][0].nonzero()"
   ]
  },
  {
   "cell_type": "markdown",
   "metadata": {},
   "source": [
    "### Get Events data to assign timestamp to zero crossings"
   ]
  },
  {
   "cell_type": "code",
   "execution_count": 12,
   "metadata": {},
   "outputs": [],
   "source": [
    "events = zerocrossing.from_trials_get(rootpath + files[0], \"Events\")\n",
    "assert len(events) == len(crossings)"
   ]
  },
  {
   "cell_type": "code",
   "execution_count": 18,
   "metadata": {},
   "outputs": [
    {
     "ename": "ValueError",
     "evalue": "Not a dataset (not a dataset)",
     "output_type": "error",
     "traceback": [
      "\u001b[0;31m---------------------------------------------------------------------------\u001b[0m",
      "\u001b[0;31mValueError\u001b[0m                                Traceback (most recent call last)",
      "\u001b[0;32m<ipython-input-18-55a3a66eada6>\u001b[0m in \u001b[0;36m<module>\u001b[0;34m\u001b[0m\n\u001b[1;32m      1\u001b[0m \u001b[0mlen\u001b[0m\u001b[0;34m(\u001b[0m\u001b[0mevents\u001b[0m\u001b[0;34m)\u001b[0m\u001b[0;34m\u001b[0m\u001b[0;34m\u001b[0m\u001b[0m\n\u001b[0;32m----> 2\u001b[0;31m \u001b[0mevents\u001b[0m\u001b[0;34m[\u001b[0m\u001b[0;36m0\u001b[0m\u001b[0;34m]\u001b[0m\u001b[0;34m.\u001b[0m\u001b[0mlen\u001b[0m\u001b[0;34m(\u001b[0m\u001b[0;34m)\u001b[0m\u001b[0;34m\u001b[0m\u001b[0;34m\u001b[0m\u001b[0m\n\u001b[0m",
      "\u001b[0;32m~/.local/share/virtualenvs/rinberg-rotation-6TUwHcAB/lib/python3.7/site-packages/h5py/_hl/dataset.py\u001b[0m in \u001b[0;36mlen\u001b[0;34m(self)\u001b[0m\n\u001b[1;32m    457\u001b[0m         \"\"\"\n\u001b[1;32m    458\u001b[0m         \u001b[0;32mwith\u001b[0m \u001b[0mphil\u001b[0m\u001b[0;34m:\u001b[0m\u001b[0;34m\u001b[0m\u001b[0;34m\u001b[0m\u001b[0m\n\u001b[0;32m--> 459\u001b[0;31m             \u001b[0mshape\u001b[0m \u001b[0;34m=\u001b[0m \u001b[0mself\u001b[0m\u001b[0;34m.\u001b[0m\u001b[0mshape\u001b[0m\u001b[0;34m\u001b[0m\u001b[0;34m\u001b[0m\u001b[0m\n\u001b[0m\u001b[1;32m    460\u001b[0m             \u001b[0;32mif\u001b[0m \u001b[0mlen\u001b[0m\u001b[0;34m(\u001b[0m\u001b[0mshape\u001b[0m\u001b[0;34m)\u001b[0m \u001b[0;34m==\u001b[0m \u001b[0;36m0\u001b[0m\u001b[0;34m:\u001b[0m\u001b[0;34m\u001b[0m\u001b[0;34m\u001b[0m\u001b[0m\n\u001b[1;32m    461\u001b[0m                 \u001b[0;32mraise\u001b[0m \u001b[0mTypeError\u001b[0m\u001b[0;34m(\u001b[0m\u001b[0;34m\"Attempt to take len() of scalar dataset\"\u001b[0m\u001b[0;34m)\u001b[0m\u001b[0;34m\u001b[0m\u001b[0;34m\u001b[0m\u001b[0m\n",
      "\u001b[0;32mh5py/_objects.pyx\u001b[0m in \u001b[0;36mh5py._objects.with_phil.wrapper\u001b[0;34m()\u001b[0m\n",
      "\u001b[0;32mh5py/_objects.pyx\u001b[0m in \u001b[0;36mh5py._objects.with_phil.wrapper\u001b[0;34m()\u001b[0m\n",
      "\u001b[0;32m~/.local/share/virtualenvs/rinberg-rotation-6TUwHcAB/lib/python3.7/site-packages/h5py/_hl/dataset.py\u001b[0m in \u001b[0;36mshape\u001b[0;34m(self)\u001b[0m\n\u001b[1;32m    285\u001b[0m     \u001b[0;32mdef\u001b[0m \u001b[0mshape\u001b[0m\u001b[0;34m(\u001b[0m\u001b[0mself\u001b[0m\u001b[0;34m)\u001b[0m\u001b[0;34m:\u001b[0m\u001b[0;34m\u001b[0m\u001b[0;34m\u001b[0m\u001b[0m\n\u001b[1;32m    286\u001b[0m         \u001b[0;34m\"\"\"Numpy-style shape tuple giving dataset dimensions\"\"\"\u001b[0m\u001b[0;34m\u001b[0m\u001b[0;34m\u001b[0m\u001b[0m\n\u001b[0;32m--> 287\u001b[0;31m         \u001b[0;32mreturn\u001b[0m \u001b[0mself\u001b[0m\u001b[0;34m.\u001b[0m\u001b[0mid\u001b[0m\u001b[0;34m.\u001b[0m\u001b[0mshape\u001b[0m\u001b[0;34m\u001b[0m\u001b[0;34m\u001b[0m\u001b[0m\n\u001b[0m\u001b[1;32m    288\u001b[0m     \u001b[0;34m@\u001b[0m\u001b[0mshape\u001b[0m\u001b[0;34m.\u001b[0m\u001b[0msetter\u001b[0m\u001b[0;34m\u001b[0m\u001b[0;34m\u001b[0m\u001b[0m\n\u001b[1;32m    289\u001b[0m     \u001b[0;34m@\u001b[0m\u001b[0mwith_phil\u001b[0m\u001b[0;34m\u001b[0m\u001b[0;34m\u001b[0m\u001b[0m\n",
      "\u001b[0;32mh5py/h5d.pyx\u001b[0m in \u001b[0;36mh5py.h5d.DatasetID.shape.__get__\u001b[0;34m()\u001b[0m\n",
      "\u001b[0;32mh5py/h5d.pyx\u001b[0m in \u001b[0;36mh5py.h5d.DatasetID.shape.__get__\u001b[0;34m()\u001b[0m\n",
      "\u001b[0;32mh5py/_objects.pyx\u001b[0m in \u001b[0;36mh5py._objects.with_phil.wrapper\u001b[0;34m()\u001b[0m\n",
      "\u001b[0;32mh5py/_objects.pyx\u001b[0m in \u001b[0;36mh5py._objects.with_phil.wrapper\u001b[0;34m()\u001b[0m\n",
      "\u001b[0;32mh5py/h5d.pyx\u001b[0m in \u001b[0;36mh5py.h5d.DatasetID.get_space\u001b[0;34m()\u001b[0m\n",
      "\u001b[0;31mValueError\u001b[0m: Not a dataset (not a dataset)"
     ]
    }
   ],
   "source": [
    "len(events)\n",
    "events[0].len()"
   ]
  },
  {
   "cell_type": "code",
   "execution_count": 14,
   "metadata": {},
   "outputs": [
    {
     "data": {
      "text/plain": [
       "<Closed HDF5 dataset>"
      ]
     },
     "execution_count": 14,
     "metadata": {},
     "output_type": "execute_result"
    }
   ],
   "source": [
    "import h5py\n",
    "crossingTimestamps = []\n",
    "with h5py.File(rootpath + files[0], \"r\") as h5File:\n",
    "    for i_trial, crossing in enumerate(crossings):\n",
    "#     for i_trial in range(1, len(h5File)):\n",
    "        events = h5File[\"Trial{:04d}\".format(i_trial+1)][\"Events\"]\n",
    "        timestamps = []\n",
    "        for i_sample, sample in enumerate(crossing):\n",
    "            timestamps.append(sample.nonzero() / events)\n",
    "        results.append(trialDetails[element])\n"
   ]
  }
 ],
 "metadata": {
  "kernelspec": {
   "display_name": "Python 3",
   "language": "python",
   "name": "python3"
  },
  "language_info": {
   "codemirror_mode": {
    "name": "ipython",
    "version": 3
   },
   "file_extension": ".py",
   "mimetype": "text/x-python",
   "name": "python",
   "nbconvert_exporter": "python",
   "pygments_lexer": "ipython3",
   "version": "3.7.3"
  }
 },
 "nbformat": 4,
 "nbformat_minor": 2
}
