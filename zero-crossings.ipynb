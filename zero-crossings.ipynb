{
 "cells": [
  {
   "cell_type": "markdown",
   "metadata": {},
   "source": [
    "# Compare zero-crossings to auto-detected sniff inhalation onsets\n",
    "### Get zero crossings"
   ]
  },
  {
   "cell_type": "code",
   "execution_count": 44,
   "metadata": {},
   "outputs": [],
   "source": [
    "import zerocrossing\n",
    "rootpath = \"./data/190603/\"\n",
    "files = [\"1953_1_04_D2019_6_3T12_29_13_odor.h5\"]\n",
    "# files = [\"1953_1_05_D2019_6_3T12_47_22_odor.h5\"]\n",
    "crossings = zerocrossing.getCrossingsFromFiles(files, rootpath)\n",
    "# Only one file, so let's get rid of the dict\n",
    "crossings = crossings[files[0]]"
   ]
  },
  {
   "cell_type": "code",
   "execution_count": 45,
   "metadata": {},
   "outputs": [
    {
     "name": "stdout",
     "output_type": "stream",
     "text": [
      "len(crossings) = 45\n"
     ]
    },
    {
     "data": {
      "text/plain": [
       "[[245, 85, 36],\n",
       " [85, 39, 35, 179, 84],\n",
       " [61, 38, 36, 53, 46],\n",
       " [69, 37, 17, 56, 103],\n",
       " [105, 42, 37, 89, 45],\n",
       " [67, 36, 16, 57, 47],\n",
       " [69, 38, 36, 57, 28],\n",
       " [70, 38, 36, 60, 47],\n",
       " [69, 37, 17, 60, 48],\n",
       " [69, 37, 37, 61, 47],\n",
       " [73, 37, 17, 65, 45],\n",
       " [69, 35, 15, 57, 48],\n",
       " [67, 36, 16, 60, 48],\n",
       " [69, 37, 17, 56, 30],\n",
       " [70, 38, 35, 61, 48],\n",
       " [89, 37, 34, 60, 47],\n",
       " [141, 90, 36, 88, 48],\n",
       " [67, 36, 36, 61, 48],\n",
       " [72, 35, 16, 56, 50],\n",
       " [69, 38, 36, 57, 48],\n",
       " [68, 37, 17, 56, 50],\n",
       " [70, 38, 35, 66, 44],\n",
       " [71, 38, 35, 60, 48],\n",
       " [69, 38, 16, 60, 48],\n",
       " [69, 37, 17, 60, 48],\n",
       " [72, 34, 17, 60, 49],\n",
       " [72, 39, 34, 60, 50],\n",
       " [69, 38, 36, 64, 47],\n",
       " [71, 38, 34, 57, 29],\n",
       " [71, 38, 35, 66, 85],\n",
       " [68, 35, 16, 65, 45],\n",
       " [71, 35, 17, 138, 156],\n",
       " [97, 38, 36, 57, 28],\n",
       " [139, 88, 36, 60, 47],\n",
       " [72, 35, 17, 60, 48],\n",
       " [73, 38, 17, 56, 30],\n",
       " [70, 37, 36, 66, 44],\n",
       " [69, 37, 17, 57, 27],\n",
       " [135, 85, 35, 66, 44],\n",
       " [68, 36, 16, 60, 49],\n",
       " [78, 38, 36, 126, 48],\n",
       " [71, 37, 35, 61, 49],\n",
       " [72, 35, 36, 60, 47],\n",
       " [71, 38, 34, 57, 28],\n",
       " [70, 38, 35, 56, 48]]"
      ]
     },
     "execution_count": 45,
     "metadata": {},
     "output_type": "execute_result"
    }
   ],
   "source": [
    "print(f\"len(crossings) = {len(crossings)}\")\n",
    "[[len(x) for x in crossing[:5]] for crossing in crossings] "
   ]
  },
  {
   "cell_type": "code",
   "execution_count": 46,
   "metadata": {},
   "outputs": [
    {
     "name": "stdout",
     "output_type": "stream",
     "text": [
      "(array([ 22, 121, 163]),)\n",
      "245\n"
     ]
    }
   ],
   "source": [
    "# Crossing positions in first sniff sampling \n",
    "print(crossings[0][0].nonzero())\n",
    "print(len(crossings[0][0]))"
   ]
  },
  {
   "cell_type": "markdown",
   "metadata": {},
   "source": [
    "### Get Events data to assign timestamp to zero crossings"
   ]
  },
  {
   "cell_type": "code",
   "execution_count": 47,
   "metadata": {},
   "outputs": [
    {
     "name": "stdout",
     "output_type": "stream",
     "text": [
      "Total frame triggers: 11679\n"
     ]
    }
   ],
   "source": [
    "import h5py\n",
    "crossingTimestamps = []\n",
    "with h5py.File(rootpath + files[0], \"r\") as h5File:\n",
    "    numFrameTriggers = sum([sum([len(x) for x in h5File[\"Trial{:04d}\".format(i_trial)][\"frame_triggers\"]]) for i_trial in range(1,46)])\n",
    "    print(f\"Total frame triggers: {numFrameTriggers}\")\n",
    "    for i_trial, crossing in enumerate(crossings):\n",
    "#     for i_trial in range(1, len(h5File)):\n",
    "        events = h5File[\"Trial{:04d}\".format(i_trial+1)][\"Events\"]\n",
    "        timestamps = []\n",
    "        for i_sample, sample in enumerate(crossing):\n",
    "            crossingIndexes = sample.nonzero()[0]\n",
    "            # Need negative offsets -- matching Events packet_sent_time is ending timestamp\n",
    "            offsets = crossingIndexes - len(sample)\n",
    "            timestamps.append(events[\"packet_sent_time\"][i_sample] + offsets)\n",
    "            if i_sample > 0:\n",
    "                # confirm 1kHz sample-rate\n",
    "                assert (len(sample) + events[\"packet_sent_time\"][i_sample - 1]) == events[\"packet_sent_time\"][i_sample]\n",
    "        crossingTimestamps.append(timestamps)\n"
   ]
  },
  {
   "cell_type": "code",
   "execution_count": 48,
   "metadata": {},
   "outputs": [
    {
     "name": "stdout",
     "output_type": "stream",
     "text": [
      "[array([2223056, 2223155, 2223197]), array([2223306, 2223352, 2223363]), array([2223367])]\n"
     ]
    }
   ],
   "source": [
    "print(crossingTimestamps[0])"
   ]
  },
  {
   "cell_type": "markdown",
   "metadata": {},
   "source": [
    "### Compare crossings to auto-detected inhalation onset timestamps"
   ]
  },
  {
   "cell_type": "code",
   "execution_count": 49,
   "metadata": {},
   "outputs": [
    {
     "name": "stdout",
     "output_type": "stream",
     "text": [
      "Any matches? True\n"
     ]
    }
   ],
   "source": [
    "exactMatches = []\n",
    "with h5py.File(rootpath + files[0], \"r\") as h5File:\n",
    "    trials = h5File['Trials']\n",
    "    inhalationOnsets = trials['inh_onset']\n",
    "    for i_trial, onsetTimestamp in enumerate(inhalationOnsets):\n",
    "        curCrossings = crossingTimestamps[i_trial]\n",
    "        exactMatches.append(any([onsetTimestamp in eventCrossings for eventCrossings in curCrossings]))\n",
    "print(f\"Any matches? {any(exactMatches)}\")"
   ]
  },
  {
   "cell_type": "code",
   "execution_count": 56,
   "metadata": {},
   "outputs": [
    {
     "name": "stdout",
     "output_type": "stream",
     "text": [
      "2 matches out of 45 at trials [36 39].\n"
     ]
    }
   ],
   "source": [
    "import numpy as np\n",
    "print(f\"{sum(exactMatches)} matches out of {len(exactMatches)} at trials {np.nonzero(exactMatches)[0]}.\")"
   ]
  },
  {
   "cell_type": "markdown",
   "metadata": {},
   "source": [
    "### Get frames corresponding to each timestamp"
   ]
  },
  {
   "cell_type": "code",
   "execution_count": null,
   "metadata": {},
   "outputs": [],
   "source": []
  }
 ],
 "metadata": {
  "kernelspec": {
   "display_name": "Python 3",
   "language": "python",
   "name": "python3"
  },
  "language_info": {
   "codemirror_mode": {
    "name": "ipython",
    "version": 3
   },
   "file_extension": ".py",
   "mimetype": "text/x-python",
   "name": "python",
   "nbconvert_exporter": "python",
   "pygments_lexer": "ipython3",
   "version": "3.7.3"
  }
 },
 "nbformat": 4,
 "nbformat_minor": 2
}
