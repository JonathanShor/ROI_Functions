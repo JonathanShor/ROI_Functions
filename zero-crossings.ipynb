{
 "cells": [
  {
   "cell_type": "markdown",
   "metadata": {},
   "source": [
    "# Compare zero-crossings to auto-detected sniff inhalation onsets\n",
    "### Get zero crossings"
   ]
  },
  {
   "cell_type": "code",
   "execution_count": 1,
   "metadata": {},
   "outputs": [],
   "source": [
    "import zerocrossing\n",
    "rootpath = \"./data/190603/\"\n",
    "files = [\"1953_1_04_D2019_6_3T12_29_13_odor.h5\"]\n",
    "# files = [\"1953_1_05_D2019_6_3T12_47_22_odor.h5\"]\n",
    "crossings = zerocrossing.getCrossingsFromFiles(files, rootpath)\n",
    "# Only one file, so let's get rid of the dict\n",
    "crossings = crossings[files[0]]"
   ]
  },
  {
   "cell_type": "code",
   "execution_count": 2,
   "metadata": {},
   "outputs": [
    {
     "name": "stdout",
     "output_type": "stream",
     "text": [
      "len(crossings) = 45\n"
     ]
    },
    {
     "data": {
      "text/plain": [
       "[[245, 85, 36],\n",
       " [85, 39, 35, 179, 84],\n",
       " [61, 38, 36, 53, 46],\n",
       " [69, 37, 17, 56, 103],\n",
       " [105, 42, 37, 89, 45],\n",
       " [67, 36, 16, 57, 47],\n",
       " [69, 38, 36, 57, 28],\n",
       " [70, 38, 36, 60, 47],\n",
       " [69, 37, 17, 60, 48],\n",
       " [69, 37, 37, 61, 47],\n",
       " [73, 37, 17, 65, 45],\n",
       " [69, 35, 15, 57, 48],\n",
       " [67, 36, 16, 60, 48],\n",
       " [69, 37, 17, 56, 30],\n",
       " [70, 38, 35, 61, 48],\n",
       " [89, 37, 34, 60, 47],\n",
       " [141, 90, 36, 88, 48],\n",
       " [67, 36, 36, 61, 48],\n",
       " [72, 35, 16, 56, 50],\n",
       " [69, 38, 36, 57, 48],\n",
       " [68, 37, 17, 56, 50],\n",
       " [70, 38, 35, 66, 44],\n",
       " [71, 38, 35, 60, 48],\n",
       " [69, 38, 16, 60, 48],\n",
       " [69, 37, 17, 60, 48],\n",
       " [72, 34, 17, 60, 49],\n",
       " [72, 39, 34, 60, 50],\n",
       " [69, 38, 36, 64, 47],\n",
       " [71, 38, 34, 57, 29],\n",
       " [71, 38, 35, 66, 85],\n",
       " [68, 35, 16, 65, 45],\n",
       " [71, 35, 17, 138, 156],\n",
       " [97, 38, 36, 57, 28],\n",
       " [139, 88, 36, 60, 47],\n",
       " [72, 35, 17, 60, 48],\n",
       " [73, 38, 17, 56, 30],\n",
       " [70, 37, 36, 66, 44],\n",
       " [69, 37, 17, 57, 27],\n",
       " [135, 85, 35, 66, 44],\n",
       " [68, 36, 16, 60, 49],\n",
       " [78, 38, 36, 126, 48],\n",
       " [71, 37, 35, 61, 49],\n",
       " [72, 35, 36, 60, 47],\n",
       " [71, 38, 34, 57, 28],\n",
       " [70, 38, 35, 56, 48]]"
      ]
     },
     "execution_count": 2,
     "metadata": {},
     "output_type": "execute_result"
    }
   ],
   "source": [
    "print(f\"len(crossings) = {len(crossings)}\")\n",
    "[[len(x) for x in crossing[:5]] for crossing in crossings] "
   ]
  },
  {
   "cell_type": "code",
   "execution_count": 26,
   "metadata": {},
   "outputs": [
    {
     "data": {
      "text/plain": [
       "[1,\n",
       " 0,\n",
       " 0,\n",
       " 2,\n",
       " 0,\n",
       " 1,\n",
       " 0,\n",
       " 1,\n",
       " 0,\n",
       " 0,\n",
       " 1,\n",
       " 0,\n",
       " 0,\n",
       " 0,\n",
       " 1,\n",
       " 0,\n",
       " 0,\n",
       " 0,\n",
       " 1,\n",
       " 0,\n",
       " 0,\n",
       " 0,\n",
       " 0,\n",
       " 0,\n",
       " 0,\n",
       " 1,\n",
       " 0,\n",
       " 0,\n",
       " 0,\n",
       " 1,\n",
       " 0,\n",
       " 0,\n",
       " 0,\n",
       " 0,\n",
       " 0,\n",
       " 0,\n",
       " 0,\n",
       " 0,\n",
       " 0,\n",
       " 0]"
      ]
     },
     "execution_count": 26,
     "metadata": {},
     "output_type": "execute_result"
    }
   ],
   "source": [
    "[(len(x.nonzero()[0])) for x in crossings[1]]"
   ]
  },
  {
   "cell_type": "code",
   "execution_count": 24,
   "metadata": {},
   "outputs": [
    {
     "name": "stdout",
     "output_type": "stream",
     "text": [
      "All events have exactly one crossing? False\n"
     ]
    }
   ],
   "source": [
    "print(f\"All events have exactly one crossing? {all([all([(len(x.nonzero()[0]) == 1) for x in y]) for y in crossings])}\")"
   ]
  },
  {
   "cell_type": "code",
   "execution_count": 3,
   "metadata": {},
   "outputs": [
    {
     "name": "stdout",
     "output_type": "stream",
     "text": [
      "(array([121]),)\n",
      "245\n"
     ]
    }
   ],
   "source": [
    "# Crossing positions in first sniff sampling \n",
    "print(crossings[0][0].nonzero())\n",
    "print(len(crossings[0][0]))"
   ]
  },
  {
   "cell_type": "markdown",
   "metadata": {},
   "source": [
    "### Get Events data to assign timestamp to zero crossings"
   ]
  },
  {
   "cell_type": "code",
   "execution_count": 4,
   "metadata": {},
   "outputs": [
    {
     "name": "stdout",
     "output_type": "stream",
     "text": [
      "Total frame triggers: 11679\n"
     ]
    }
   ],
   "source": [
    "import h5py\n",
    "crossingTimestamps = []\n",
    "with h5py.File(rootpath + files[0], \"r\") as h5File:\n",
    "    numFrameTriggers = sum([sum([len(x) for x in h5File[\"Trial{:04d}\".format(i_trial)][\"frame_triggers\"]]) for i_trial in range(1,46)])\n",
    "    print(f\"Total frame triggers: {numFrameTriggers}\")\n",
    "    for i_trial, crossing in enumerate(crossings):\n",
    "        events = h5File[\"Trial{:04d}\".format(i_trial+1)][\"Events\"]\n",
    "        timestamps = []\n",
    "        for i_sample, sample in enumerate(crossing):\n",
    "            crossingIndexes = sample.nonzero()[0]\n",
    "            # Need negative offsets -- matching Events packet_sent_time is ending timestamp\n",
    "            offsets = crossingIndexes - len(sample)\n",
    "            timestamps.append(events[\"packet_sent_time\"][i_sample] + offsets)\n",
    "            if i_sample > 0:\n",
    "                # confirm 1kHz sample-rate\n",
    "                assert (len(sample) + events[\"packet_sent_time\"][i_sample - 1]) == events[\"packet_sent_time\"][i_sample]\n",
    "        crossingTimestamps.append(timestamps)\n"
   ]
  },
  {
   "cell_type": "code",
   "execution_count": 5,
   "metadata": {},
   "outputs": [
    {
     "name": "stdout",
     "output_type": "stream",
     "text": [
      "0\n"
     ]
    }
   ],
   "source": [
    "print(len(crossingTimestamps[15][1]))"
   ]
  },
  {
   "cell_type": "markdown",
   "metadata": {},
   "source": [
    "### Compare crossings to auto-detected inhalation onset timestamps"
   ]
  },
  {
   "cell_type": "code",
   "execution_count": 6,
   "metadata": {},
   "outputs": [
    {
     "name": "stdout",
     "output_type": "stream",
     "text": [
      "Any matches? True\n"
     ]
    }
   ],
   "source": [
    "exactMatches = []\n",
    "with h5py.File(rootpath + files[0], \"r\") as h5File:\n",
    "    trials = h5File['Trials']\n",
    "    inhalationOnsets = trials['inh_onset']\n",
    "    for i_trial, onsetTimestamp in enumerate(inhalationOnsets):\n",
    "        curCrossings = crossingTimestamps[i_trial]\n",
    "        exactMatches.append(any([onsetTimestamp in eventCrossings for eventCrossings in curCrossings]))\n",
    "print(f\"Any matches? {any(exactMatches)}\")"
   ]
  },
  {
   "cell_type": "code",
   "execution_count": 7,
   "metadata": {},
   "outputs": [
    {
     "name": "stdout",
     "output_type": "stream",
     "text": [
      "1 matches out of 45 trials, at trial numbers [36].\n"
     ]
    }
   ],
   "source": [
    "import numpy as np\n",
    "print(f\"{sum(exactMatches)} matches out of {len(exactMatches)} trials, at trial numbers {np.nonzero(exactMatches)[0]}.\")"
   ]
  },
  {
   "cell_type": "markdown",
   "metadata": {},
   "source": [
    "### Get frames corresponding to each timestamp"
   ]
  },
  {
   "cell_type": "code",
   "execution_count": 8,
   "metadata": {},
   "outputs": [
    {
     "name": "stdout",
     "output_type": "stream",
     "text": [
      "29\n",
      "<class 'h5py._hl.dataset.Dataset'>\n",
      "<class 'numpy.ndarray'>\n",
      "[2223912.]\n",
      "224\n",
      "<class 'h5py._hl.dataset.Dataset'>\n",
      "<class 'numpy.ndarray'>\n",
      "[2224881.]\n",
      "216\n",
      "<class 'h5py._hl.dataset.Dataset'>\n",
      "<class 'numpy.ndarray'>\n",
      "[2233299. 2233332.]\n",
      "243\n",
      "<class 'h5py._hl.dataset.Dataset'>\n",
      "<class 'numpy.ndarray'>\n",
      "[2241550. 2241583. 2241617.]\n",
      "236\n",
      "<class 'h5py._hl.dataset.Dataset'>\n",
      "<class 'numpy.ndarray'>\n",
      "[2250703. 2250737.]\n",
      "233\n",
      "<class 'h5py._hl.dataset.Dataset'>\n",
      "<class 'numpy.ndarray'>\n",
      "[2260124. 2260157.]\n",
      "261\n",
      "<class 'h5py._hl.dataset.Dataset'>\n",
      "<class 'numpy.ndarray'>\n",
      "[2269077. 2269110.]\n",
      "205\n",
      "<class 'h5py._hl.dataset.Dataset'>\n",
      "<class 'numpy.ndarray'>\n",
      "[2278998. 2279032.]\n",
      "242\n",
      "<class 'h5py._hl.dataset.Dataset'>\n",
      "<class 'numpy.ndarray'>\n",
      "[2287350. 2287383.]\n",
      "239\n",
      "<class 'h5py._hl.dataset.Dataset'>\n",
      "<class 'numpy.ndarray'>\n",
      "[2296937. 2296971.]\n",
      "262\n",
      "<class 'h5py._hl.dataset.Dataset'>\n",
      "<class 'numpy.ndarray'>\n",
      "[2306358. 2306391.]\n",
      "232\n",
      "<class 'h5py._hl.dataset.Dataset'>\n",
      "<class 'numpy.ndarray'>\n",
      "[2316480. 2316513.]\n",
      "199\n",
      "<class 'h5py._hl.dataset.Dataset'>\n",
      "<class 'numpy.ndarray'>\n",
      "[2325533. 2325566.]\n",
      "218\n",
      "<class 'h5py._hl.dataset.Dataset'>\n",
      "<class 'numpy.ndarray'>\n",
      "[2333751. 2333784. 2333818.]\n",
      "252\n",
      "<class 'h5py._hl.dataset.Dataset'>\n",
      "<class 'numpy.ndarray'>\n",
      "[2342503. 2342537. 2342570.]\n",
      "216\n",
      "<class 'h5py._hl.dataset.Dataset'>\n",
      "<class 'numpy.ndarray'>\n",
      "[2352325. 2352358. 2352391. 2352425. 2352458.]\n",
      "236\n",
      "<class 'h5py._hl.dataset.Dataset'>\n",
      "<class 'numpy.ndarray'>\n",
      "[2360977. 2361010.]\n",
      "250\n",
      "<class 'h5py._hl.dataset.Dataset'>\n",
      "<class 'numpy.ndarray'>\n",
      "[2370197. 2370230.]\n",
      "224\n",
      "<class 'h5py._hl.dataset.Dataset'>\n",
      "<class 'numpy.ndarray'>\n",
      "[2379885. 2379918.]\n",
      "231\n",
      "<class 'h5py._hl.dataset.Dataset'>\n",
      "<class 'numpy.ndarray'>\n",
      "[2388971. 2389005. 2389038.]\n",
      "227\n",
      "<class 'h5py._hl.dataset.Dataset'>\n",
      "<class 'numpy.ndarray'>\n",
      "[2398058. 2398091.]\n",
      "228\n",
      "<class 'h5py._hl.dataset.Dataset'>\n",
      "<class 'numpy.ndarray'>\n",
      "[2407512. 2407545. 2407578.]\n",
      "232\n",
      "<class 'h5py._hl.dataset.Dataset'>\n",
      "<class 'numpy.ndarray'>\n",
      "[2416464. 2416498.]\n",
      "207\n",
      "<class 'h5py._hl.dataset.Dataset'>\n",
      "<class 'numpy.ndarray'>\n",
      "[2425785. 2425818.]\n",
      "211\n",
      "<class 'h5py._hl.dataset.Dataset'>\n",
      "<class 'numpy.ndarray'>\n",
      "[2434270. 2434303. 2434337.]\n",
      "220\n",
      "<class 'h5py._hl.dataset.Dataset'>\n",
      "<class 'numpy.ndarray'>\n",
      "[2442755. 2442789.]\n",
      "206\n",
      "<class 'h5py._hl.dataset.Dataset'>\n",
      "<class 'numpy.ndarray'>\n",
      "[2452009. 2452042.]\n",
      "219\n",
      "<class 'h5py._hl.dataset.Dataset'>\n",
      "<class 'numpy.ndarray'>\n",
      "[2460427. 2460460. 2460494.]\n",
      "214\n",
      "<class 'h5py._hl.dataset.Dataset'>\n",
      "<class 'numpy.ndarray'>\n",
      "[2469012. 2469046.]\n",
      "244\n",
      "<class 'h5py._hl.dataset.Dataset'>\n",
      "<class 'numpy.ndarray'>\n",
      "[2477698. 2477731.]\n",
      "204\n",
      "<class 'h5py._hl.dataset.Dataset'>\n",
      "<class 'numpy.ndarray'>\n",
      "[2487219. 2487252.]\n",
      "262\n",
      "<class 'h5py._hl.dataset.Dataset'>\n",
      "<class 'numpy.ndarray'>\n",
      "[2495637. 2495671.]\n",
      "213\n",
      "<class 'h5py._hl.dataset.Dataset'>\n",
      "<class 'numpy.ndarray'>\n",
      "[2505659. 2505693. 2505726. 2505759.]\n",
      "208\n",
      "<class 'h5py._hl.dataset.Dataset'>\n",
      "<class 'numpy.ndarray'>\n",
      "[2514111. 2514144.]\n",
      "201\n",
      "<class 'h5py._hl.dataset.Dataset'>\n",
      "<class 'numpy.ndarray'>\n",
      "[2522496. 2522529.]\n",
      "238\n",
      "<class 'h5py._hl.dataset.Dataset'>\n",
      "<class 'numpy.ndarray'>\n",
      "[2530614. 2530647.]\n",
      "242\n",
      "<class 'h5py._hl.dataset.Dataset'>\n",
      "<class 'numpy.ndarray'>\n",
      "[2540602. 2540636.]\n",
      "253\n",
      "<class 'h5py._hl.dataset.Dataset'>\n",
      "<class 'numpy.ndarray'>\n",
      "[2549989. 2550023. 2550056. 2550090.]\n",
      "201\n",
      "<class 'h5py._hl.dataset.Dataset'>\n",
      "<class 'numpy.ndarray'>\n",
      "[2559677. 2559711.]\n",
      "202\n",
      "<class 'h5py._hl.dataset.Dataset'>\n",
      "<class 'numpy.ndarray'>\n",
      "[2567795. 2567828.]\n",
      "219\n",
      "<class 'h5py._hl.dataset.Dataset'>\n",
      "<class 'numpy.ndarray'>\n",
      "[2576414. 2576447.]\n",
      "237\n",
      "<class 'h5py._hl.dataset.Dataset'>\n",
      "<class 'numpy.ndarray'>\n",
      "[2585267. 2585300.]\n",
      "238\n",
      "<class 'h5py._hl.dataset.Dataset'>\n",
      "<class 'numpy.ndarray'>\n",
      "[2594654. 2594687.]\n",
      "265\n",
      "<class 'h5py._hl.dataset.Dataset'>\n",
      "<class 'numpy.ndarray'>\n",
      "[2603807. 2603840.]\n"
     ]
    }
   ],
   "source": [
    "frameTimestamps = []\n",
    "with h5py.File(rootpath + files[0], \"r\") as h5File:\n",
    "    for i_trial, crossing in enumerate(crossings[1:]):\n",
    "        frameTriggers = h5File[\"Trial{:04d}\".format(i_trial+1+1)][\"frame_triggers\"]\n",
    "        print(len(frameTriggers))\n",
    "        print(type(frameTriggers))\n",
    "        print(type(frameTriggers[0]))\n",
    "        print(frameTriggers[0])\n"
   ]
  }
 ],
 "metadata": {
  "kernelspec": {
   "display_name": "Python 3",
   "language": "python",
   "name": "python3"
  },
  "language_info": {
   "codemirror_mode": {
    "name": "ipython",
    "version": 3
   },
   "file_extension": ".py",
   "mimetype": "text/x-python",
   "name": "python",
   "nbconvert_exporter": "python",
   "pygments_lexer": "ipython3",
   "version": "3.7.3"
  }
 },
 "nbformat": 4,
 "nbformat_minor": 2
}
