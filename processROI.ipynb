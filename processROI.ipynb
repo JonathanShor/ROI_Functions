{
 "cells": [
  {
   "cell_type": "markdown",
   "metadata": {},
   "source": [
    "# Process & Visualize ROI"
   ]
  },
  {
   "cell_type": "code",
   "execution_count": 1,
   "metadata": {},
   "outputs": [],
   "source": [
    "import matplotlib.pyplot as plt\n",
    "%matplotlib inline\n",
    "import numpy as np\n",
    "import seaborn as sns\n",
    "sns.set()\n",
    "from skimage import io\n",
    "\n",
    "import processROI"
   ]
  },
  {
   "cell_type": "markdown",
   "metadata": {},
   "source": [
    "### test_get_masks"
   ]
  },
  {
   "cell_type": "raw",
   "metadata": {},
   "source": [
    "maskPattern = (\n",
    "        \"data/190603/aligned/\" +\n",
    "        \"03_masks/*.bmp\"\n",
    "    )\n",
    "masks = processROI.get_masks(maskPattern)\n",
    "assert len(masks) == 57\n",
    "assert all([x.shape == (512, 512) for x in masks])\n",
    "assert np.sum(masks[0]) == 223\n",
    "assert np.sum(masks[9]) == 163"
   ]
  },
  {
   "cell_type": "markdown",
   "metadata": {},
   "source": [
    "### Get the masks"
   ]
  },
  {
   "cell_type": "code",
   "execution_count": 2,
   "metadata": {},
   "outputs": [],
   "source": [
    "maskPattern = (\n",
    "        \"data/190603/aligned/\" +\n",
    "        \"field2_00001_masks/*.bmp\"\n",
    "    )\n",
    "masks = processROI.get_masks(maskPattern)"
   ]
  },
  {
   "cell_type": "markdown",
   "metadata": {},
   "source": [
    "### Get the TIFF stack"
   ]
  },
  {
   "cell_type": "code",
   "execution_count": 3,
   "metadata": {},
   "outputs": [
    {
     "name": "stdout",
     "output_type": "stream",
     "text": [
      "(12048, 512, 512)\n"
     ]
    }
   ],
   "source": [
    "tiffsPattern = (\n",
    "    \"data/190603/aligned/\" +\n",
    "    \"HN1953_190603_field2_00001_0000*.tif\"\n",
    ")\n",
    "import glob\n",
    "stack = processROI.open_TIFF_stack(tiffsPattern)\n",
    "print(stack.shape)"
   ]
  },
  {
   "cell_type": "markdown",
   "metadata": {},
   "source": [
    "### Get ROI Averages"
   ]
  },
  {
   "cell_type": "code",
   "execution_count": 4,
   "metadata": {},
   "outputs": [],
   "source": [
    "ROIaverages = processROI.cut_to_averages(stack, masks)\n",
    "assert np.all(ROIaverages != 0)"
   ]
  },
  {
   "cell_type": "markdown",
   "metadata": {},
   "source": [
    "## Process & Show\n",
    "Using only a single example session"
   ]
  },
  {
   "cell_type": "raw",
   "metadata": {},
   "source": [
    "dF_F = processROI.process(tiffsPattern, maskPattern)\n",
    "print(f\"dF_F.shape: {dF_F.shape}\")"
   ]
  },
  {
   "cell_type": "raw",
   "metadata": {},
   "source": [
    "figDims = (15,3)\n",
    "sns.set(rc={'figure.figsize':figDims})"
   ]
  },
  {
   "cell_type": "markdown",
   "metadata": {},
   "source": [
    "## Trial Averages"
   ]
  },
  {
   "cell_type": "markdown",
   "metadata": {},
   "source": [
    "Looking at a window 500ms before to 1500ms after inhalation onset"
   ]
  },
  {
   "cell_type": "code",
   "execution_count": 5,
   "metadata": {},
   "outputs": [],
   "source": [
    "h5Filename = (\n",
    "    \"data/190603/\" +\n",
    "#     \"1953_1_04_D2019_6_3T12_29_13_odor.h5\"\n",
    "    \"1953_1_05_D2019_6_3T12_47_22_odor.h5\"\n",
    ")"
   ]
  },
  {
   "cell_type": "markdown",
   "metadata": {},
   "source": [
    "## Get Clean Frame Triggers"
   ]
  },
  {
   "cell_type": "code",
   "execution_count": 6,
   "metadata": {},
   "outputs": [
    {
     "name": "stdout",
     "output_type": "stream",
     "text": [
      "Frame triggers: (12036,)\n",
      "TIFF stack shape: (12048, 512, 512)\n"
     ]
    }
   ],
   "source": [
    "frameTriggers = processROI.get_flatten_trial_data(h5Filename, 'frame_triggers')\n",
    "print(f\"Frame triggers: {frameTriggers.shape}\")\n",
    "print(f\"TIFF stack shape: {stack.shape}\")"
   ]
  },
  {
   "cell_type": "markdown",
   "metadata": {},
   "source": [
    "Frame triggers can sometimes be mislabeled, but can also simply be dropped.\n",
    "Worse, drops can come in streaks that will misalign the subsequent tiff frames from the h5 trial metadata.\n",
    "\n",
    "We can catch both of these issues by examining the interframe intervals.\n",
    "Anything higher than 34ms (1 frame) is a concern, but it seems that errors are almost always 434ms (13 frames).\n",
    "\n",
    "If they are immediately followed by a -367ms (-11 frame) gap, it is a simple mislabel and should be corrected.\n",
    "Otherwise, it is a gap, and the missing frame triggers should be inserted."
   ]
  },
  {
   "cell_type": "code",
   "execution_count": 7,
   "metadata": {},
   "outputs": [
    {
     "name": "stdout",
     "output_type": "stream",
     "text": [
      "Greater than 34ms IFI at [ 635 1768 2555 6355 6895]\n",
      "Their IFI values: [434. 434. 434. 435. 434.]\n"
     ]
    }
   ],
   "source": [
    "interFrameIntervals = frameTriggers[1:] - frameTriggers[:-1]\n",
    "largeGapsIndexes = (interFrameIntervals > 34).nonzero()[0]\n",
    "print(f\"Greater than 34ms IFI at {largeGapsIndexes}\")\n",
    "print(f\"Their IFI values: {interFrameIntervals[largeGapsIndexes]}\")"
   ]
  },
  {
   "cell_type": "code",
   "execution_count": 8,
   "metadata": {},
   "outputs": [
    {
     "name": "stdout",
     "output_type": "stream",
     "text": [
      "[3527057. 3527492. 3527525. 3527158.]\n",
      "[3400113. 3400547. 3400180. 3400213.]\n"
     ]
    }
   ],
   "source": [
    "print(frameTriggers[6355:6359])\n",
    "print(frameTriggers[2555:2559])"
   ]
  },
  {
   "cell_type": "code",
   "execution_count": 9,
   "metadata": {},
   "outputs": [
    {
     "name": "stdout",
     "output_type": "stream",
     "text": [
      "Less than 0ms IFI at [1769 2556 6357 6897]\n",
      "Their IFI values: [-367. -367. -367. -368.]\n"
     ]
    }
   ],
   "source": [
    "negativeGapsIndexes = (interFrameIntervals < 0).nonzero()[0]\n",
    "print(f\"Less than 0ms IFI at {negativeGapsIndexes}\")\n",
    "print(f\"Their IFI values: {interFrameIntervals[negativeGapsIndexes]}\")"
   ]
  },
  {
   "cell_type": "code",
   "execution_count": 10,
   "metadata": {},
   "outputs": [
    {
     "data": {
      "text/plain": [
       "[False, True, True, False, False]"
      ]
     },
     "execution_count": 10,
     "metadata": {},
     "output_type": "execute_result"
    }
   ],
   "source": [
    "[(largeGap +1) in negativeGapsIndexes for largeGap in largeGapsIndexes]"
   ]
  },
  {
   "cell_type": "code",
   "execution_count": 11,
   "metadata": {},
   "outputs": [
    {
     "name": "stdout",
     "output_type": "stream",
     "text": [
      "[3527024. 3527057. 3527492. 3527525. 3527158.]\n",
      "[  33.  435.   33. -367.   33.]\n"
     ]
    },
    {
     "data": {
      "text/plain": [
       "33.0"
      ]
     },
     "execution_count": 11,
     "metadata": {},
     "output_type": "execute_result"
    }
   ],
   "source": [
    "print(frameTriggers[6354:6359])\n",
    "print(interFrameIntervals[6354:6359])\n",
    "frameTriggers[6355] - frameTriggers[6354]"
   ]
  },
  {
   "cell_type": "code",
   "execution_count": 16,
   "metadata": {},
   "outputs": [
    {
     "name": "stdout",
     "output_type": "stream",
     "text": [
      "analyze_frame_triggers NOT implemented.\n",
      "Greater than 34ms IFI at []\n",
      "Their IFI values: []\n"
     ]
    }
   ],
   "source": [
    "frameTriggers = processROI.clean_frame_trigger_data(frameTriggers)\n",
    "interFrameIntervals = frameTriggers[1:] - frameTriggers[:-1]\n",
    "largeGapsIndexes = (interFrameIntervals > 34).nonzero()[0]\n",
    "print(f\"Greater than 34ms IFI at {largeGapsIndexes}\")\n",
    "print(f\"Their IFI values: {interFrameIntervals[largeGapsIndexes]}\")"
   ]
  },
  {
   "cell_type": "code",
   "execution_count": 17,
   "metadata": {},
   "outputs": [
    {
     "name": "stdout",
     "output_type": "stream",
     "text": [
      "Less than 0ms IFI at []\n",
      "Their IFI values: []\n"
     ]
    }
   ],
   "source": [
    "negativeGapsIndexes = (interFrameIntervals < 0).nonzero()[0]\n",
    "print(f\"Less than 0ms IFI at {negativeGapsIndexes}\")\n",
    "print(f\"Their IFI values: {interFrameIntervals[negativeGapsIndexes]}\")"
   ]
  },
  {
   "cell_type": "markdown",
   "metadata": {},
   "source": [
    "## Calculate frame slices"
   ]
  },
  {
   "cell_type": "code",
   "execution_count": 18,
   "metadata": {},
   "outputs": [],
   "source": [
    "trialsMeta = processROI.get_trials_metadata(h5Filename)\n",
    "timelocks = trialsMeta['inh_onset']\n",
    "preWindow = 500\n",
    "postWindow = 1500"
   ]
  },
  {
   "cell_type": "markdown",
   "metadata": {},
   "source": [
    "### Check intersniff intervals compared to the frame triggers between them\n",
    "\n",
    "Should be about equal, unless a trial lost some triggers"
   ]
  },
  {
   "cell_type": "code",
   "execution_count": 19,
   "metadata": {},
   "outputs": [
    {
     "name": "stdout",
     "output_type": "stream",
     "text": [
      "[ 8219  9694  8093  9696  9003 10210  9456  8256  9446  8412  9472  9584\n",
      "  8398  9311  9230  8574  9467  8877  8276  9918 10033  8359  8429  9180\n",
      "  9104  8751  9796  8630  8946  9995  9628  9051 10173  8816  8594  8587\n",
      "  9373  9027  8409  8595  9785  9799  9508  9650]\n"
     ]
    }
   ],
   "source": [
    "interSniffInterval = timelocks[1:].values - timelocks[:-1].values\n",
    "print(interSniffInterval)"
   ]
  },
  {
   "cell_type": "code",
   "execution_count": 20,
   "metadata": {},
   "outputs": [
    {
     "name": "stdout",
     "output_type": "stream",
     "text": [
      "[20, 244, 285, 231, 294, 271, 304, 283, 246, 286, 250, 283, 288, 250, 281, 278, 253, 284, 266, 246, 298, 302, 249, 253, 274, 272, 262, 293, 258, 271, 301, 281, 274, 299, 269, 256, 256, 281, 273, 251, 257, 294, 288, 283, 298]\n",
      "[33.68442623 34.01403509 35.03463203 32.97959184 33.22140221 33.58552632\n",
      " 33.41342756 33.56097561 33.02797203 33.648      33.46996466 33.27777778\n",
      " 33.592      33.13523132 33.20143885 33.88932806 33.33450704 33.37218045\n",
      " 33.64227642 33.28187919 33.2218543  33.57028112 33.31620553 33.50364964\n",
      " 33.47058824 33.40076336 33.4334471  33.4496124  33.01107011 33.20598007\n",
      " 34.2633452  33.03284672 34.02341137 32.7732342  33.5703125  33.54296875\n",
      " 33.35587189 33.06593407 33.50199203 33.44357977 33.28231293 34.02430556\n",
      " 33.59717314 32.38255034]\n"
     ]
    }
   ],
   "source": [
    "framesPerTrial = []\n",
    "import h5py\n",
    "with h5py.File(h5Filename, \"r\") as h5File:\n",
    "    for i_trial in range(1, len(h5File)):\n",
    "        trial = h5File[\"Trial{:04d}\".format(i_trial)]\n",
    "        framesPerTrial.append(sum([len(event) for event in trial[\"frame_triggers\"]]))\n",
    "print(framesPerTrial)\n",
    "print(np.array(interSniffInterval) / np.array(framesPerTrial[1:]))"
   ]
  },
  {
   "cell_type": "code",
   "execution_count": 21,
   "metadata": {},
   "outputs": [],
   "source": [
    "del framesPerTrial"
   ]
  },
  {
   "cell_type": "markdown",
   "metadata": {},
   "source": [
    "### Setup block template\n",
    "\n",
    "3 blocks, each block:  \n",
    "- trial 1: blank\n",
    "- trial 2-8: 100A -> 0A\n",
    "- trial 9-15: 0A -> 100A\n",
    "\n",
    "A and B always complement"
   ]
  },
  {
   "cell_type": "code",
   "execution_count": 22,
   "metadata": {},
   "outputs": [
    {
     "name": "stdout",
     "output_type": "stream",
     "text": [
      "   100% A, 0% B  90% A, 10% B  75% A, 25% B  50% A, 50% B  25% A, 75% B  \\\n",
      "0             2             3             4             5             6   \n",
      "1            15            14            13            12            11   \n",
      "2            17            18            19            20            21   \n",
      "3            30            29            28            27            26   \n",
      "4            32            33            34            35            36   \n",
      "5            45            44            43            42            41   \n",
      "\n",
      "   10% A, 90% B  0% A, 100% B  \n",
      "0             7             8  \n",
      "1            10             9  \n",
      "2            22            23  \n",
      "3            25            24  \n",
      "4            37            38  \n",
      "5            40            39  \n"
     ]
    }
   ],
   "source": [
    "import pandas as pd\n",
    "numBlocks = 3\n",
    "numTrials = 15\n",
    "blockTemplate = {'100% A, 0% B': [2, 15],\n",
    "        '90% A, 10% B': [3, 14],\n",
    "        '75% A, 25% B': [4, 13],\n",
    "        '50% A, 50% B': [5, 12],\n",
    "        '25% A, 75% B': [6, 11],\n",
    "        '10% A, 90% B': [7, 10],\n",
    "        '0% A, 100% B': [8, 9],}\n",
    "trialGroups = {key: (np.tile(value, (numBlocks,1)) + (np.arange(numBlocks) * numTrials).reshape(numBlocks,1)).flatten() - 1\n",
    "               for key, value in blockTemplate.items()}\n",
    "trialGroups = pd.DataFrame(data=trialGroups)\n",
    "# Print the trial names' numbers, not the 0-index values as stored\n",
    "print(trialGroups + 1)"
   ]
  },
  {
   "cell_type": "code",
   "execution_count": 23,
   "metadata": {},
   "outputs": [
    {
     "name": "stdout",
     "output_type": "stream",
     "text": [
      "Pretrial Timestamps\n",
      "   100% A, 0% B  90% A, 10% B  75% A, 25% B  50% A, 50% B  25% A, 75% B  \\\n",
      "0       3321675       3331369       3339462       3349158       3358161   \n",
      "1       3440706       3431395       3422997       3413413       3403941   \n",
      "2       3458510       3467977       3476854       3485130       3495048   \n",
      "3       3576276       3567330       3558700       3548904       3540153   \n",
      "4       3595899       3604950       3615123       3623939       3632533   \n",
      "5       3715266       3705616       3696108       3686309       3676524   \n",
      "\n",
      "   10% A, 90% B  0% A, 100% B  \n",
      "0       3368371       3377827  \n",
      "1       3395529       3386083  \n",
      "2       3505081       3513440  \n",
      "3       3531049       3521869  \n",
      "4       3641120       3650493  \n",
      "5       3667929       3659520  \n",
      "Timelock timestamps\n",
      "   100% A, 0% B  90% A, 10% B  75% A, 25% B  50% A, 50% B  25% A, 75% B  \\\n",
      "0       3322175       3331869       3339962       3349658       3358661   \n",
      "1       3441206       3431895       3423497       3413913       3404441   \n",
      "2       3459010       3468477       3477354       3485630       3495548   \n",
      "3       3576776       3567830       3559200       3549404       3540653   \n",
      "4       3596399       3605450       3615623       3624439       3633033   \n",
      "5       3715766       3706116       3696608       3686809       3677024   \n",
      "\n",
      "   10% A, 90% B  0% A, 100% B  \n",
      "0       3368871       3378327  \n",
      "1       3396029       3386583  \n",
      "2       3505581       3513940  \n",
      "3       3531549       3522369  \n",
      "4       3641620       3650993  \n",
      "5       3668429       3660020  \n",
      "Posttrial Timestamps\n",
      "   100% A, 0% B  90% A, 10% B  75% A, 25% B  50% A, 50% B  25% A, 75% B  \\\n",
      "0       3323675       3333369       3341462       3351158       3360161   \n",
      "1       3442706       3433395       3424997       3415413       3405941   \n",
      "2       3460510       3469977       3478854       3487130       3497048   \n",
      "3       3578276       3569330       3560700       3550904       3542153   \n",
      "4       3597899       3606950       3617123       3625939       3634533   \n",
      "5       3717266       3707616       3698108       3688309       3678524   \n",
      "\n",
      "   10% A, 90% B  0% A, 100% B  \n",
      "0       3370371       3379827  \n",
      "1       3397529       3388083  \n",
      "2       3507081       3515440  \n",
      "3       3533049       3523869  \n",
      "4       3643120       3652493  \n",
      "5       3669929       3661520  \n"
     ]
    }
   ],
   "source": [
    "trialPreTimelocks = pd.DataFrame()\n",
    "trialPostTimelocks = pd.DataFrame()\n",
    "trialTimelocks = pd.DataFrame()\n",
    "for key in trialGroups:\n",
    "    trialPreTimelocks[key] = timelocks.iloc[trialGroups[key]].values - preWindow\n",
    "    trialPostTimelocks[key] = timelocks.iloc[trialGroups[key]].values + postWindow\n",
    "    trialTimelocks[key] = timelocks.iloc[trialGroups[key]].values\n",
    "print(\"Pretrial Timestamps\")\n",
    "print(trialPreTimelocks)\n",
    "print(\"Timelock timestamps\")\n",
    "print(trialTimelocks)\n",
    "print(\"Posttrial Timestamps\")\n",
    "print(trialPostTimelocks)"
   ]
  },
  {
   "cell_type": "code",
   "execution_count": 24,
   "metadata": {},
   "outputs": [],
   "source": [
    "key = \"100% A, 0% B\"\n",
    "preFrames = processROI.frame_from_timestamp(frameTriggers,trialPreTimelocks[key])\n",
    "lockFrames = processROI.frame_from_timestamp(frameTriggers, trialTimelocks[key])\n",
    "postFrames = processROI.frame_from_timestamp(frameTriggers,trialPostTimelocks[key])"
   ]
  },
  {
   "cell_type": "code",
   "execution_count": 25,
   "metadata": {},
   "outputs": [
    {
     "name": "stdout",
     "output_type": "stream",
     "text": [
      "Prewindow lengths for each trial: [15, 15, 15, 15, 15, 15]\n"
     ]
    }
   ],
   "source": [
    "print(f\"Prewindow lengths for each trial: {[lock-pre for pre, lock in zip(preFrames, lockFrames)]}\")"
   ]
  },
  {
   "cell_type": "markdown",
   "metadata": {},
   "source": [
    "### Calc meanF"
   ]
  },
  {
   "cell_type": "code",
   "execution_count": 26,
   "metadata": {},
   "outputs": [
    {
     "name": "stdout",
     "output_type": "stream",
     "text": [
      "(12048, 23)\n",
      "[121.98715773 139.12965072  96.03623346 147.13822572 101.18123742\n",
      "  54.83878505 109.4321075  105.11462471  70.66879515 172.7951399\n",
      "  57.33710801 104.00413558  74.77013699  67.6465776   77.77373489\n",
      "  82.34543286  99.02814885  97.4610151   73.61492773  58.32370359\n",
      "  51.23873176  48.37325986  63.66758134]\n",
      "(6, 23)\n"
     ]
    }
   ],
   "source": [
    "frameWindow = 2\n",
    "print(ROIaverages.shape)\n",
    "print(np.mean(ROIaverages[3520-2:3520+2, :], axis=0))\n",
    "meanFs = [np.mean(ROIaverages[max(0,lock-frameWindow): lock+frameWindow,:], axis=0)\n",
    "          for lock in lockFrames]\n",
    "meanFs = np.array(meanFs)\n",
    "print(meanFs.shape)\n",
    "# print(meanFs)"
   ]
  },
  {
   "cell_type": "code",
   "execution_count": 27,
   "metadata": {},
   "outputs": [
    {
     "name": "stdout",
     "output_type": "stream",
     "text": [
      "15\n"
     ]
    }
   ],
   "source": [
    "numROI = ROIaverages.shape[1]\n",
    "numTrials = len(lockFrames)\n",
    "maxSliceWidth = max([post - pre for pre, post in zip(preFrames, postFrames)])\n",
    "trialAverageData = np.zeros((maxSliceWidth, numTrials, numROI))\n",
    "zeroFrame = max(lock - pre for pre, lock in zip(preFrames, lockFrames))\n",
    "# print(trialAverageData)\n",
    "print(zeroFrame)"
   ]
  },
  {
   "cell_type": "code",
   "execution_count": 28,
   "metadata": {},
   "outputs": [
    {
     "name": "stdout",
     "output_type": "stream",
     "text": [
      "[slice(219, 234, None), slice(3783, 3798, None), slice(4316, 4331, None), slice(7841, 7856, None), slice(8428, 8443, None), slice(12001, 12016, None)]\n"
     ]
    }
   ],
   "source": [
    "preWindows = [slice(pre,lock) for pre,lock in zip(preFrames, lockFrames)]\n",
    "print(preWindows)"
   ]
  },
  {
   "cell_type": "code",
   "execution_count": 29,
   "metadata": {},
   "outputs": [],
   "source": [
    "for i_slice, slce in enumerate(preWindows):\n",
    "    tempData = ROIaverages[slce,:]\n",
    "#     print(tempData.shape[0])\n",
    "    trialAverageData[zeroFrame-tempData.shape[0]:zeroFrame, i_slice, :] = tempData\n",
    "#     print(trialAverageData[:zeroFrame,i_slice,0])"
   ]
  },
  {
   "cell_type": "code",
   "execution_count": 30,
   "metadata": {},
   "outputs": [
    {
     "name": "stdout",
     "output_type": "stream",
     "text": [
      "[slice(234, 279, None), slice(3798, 3842, None), slice(4331, 4375, None), slice(7856, 7901, None), slice(8443, 8488, None), slice(12016, 12048, None)]\n"
     ]
    }
   ],
   "source": [
    "postWindows = [slice(lock,post) for lock,post in zip(lockFrames, postFrames)]\n",
    "print(postWindows)"
   ]
  },
  {
   "cell_type": "code",
   "execution_count": 31,
   "metadata": {},
   "outputs": [],
   "source": [
    "for i_slice, slce in enumerate(postWindows):\n",
    "    tempData = ROIaverages[slce,:]\n",
    "#     print(tempData.shape[0])\n",
    "    trialAverageData[zeroFrame:zeroFrame+tempData.shape[0], i_slice, :] = tempData\n",
    "#     print(trialAverageData[zeroFrame:,i_slice,0])"
   ]
  },
  {
   "cell_type": "markdown",
   "metadata": {},
   "source": [
    "### Calc dF/F"
   ]
  },
  {
   "cell_type": "code",
   "execution_count": 32,
   "metadata": {},
   "outputs": [
    {
     "name": "stdout",
     "output_type": "stream",
     "text": [
      "How many zeros in each trial? [(0,), (23,), (23,), (0,), (0,), (299,)]\n"
     ]
    }
   ],
   "source": [
    "print(f\"How many zeros in each trial? {[(trialAverageData[:,x,:]==0).nonzero()[0].shape for x in range(6)]}\")"
   ]
  },
  {
   "cell_type": "code",
   "execution_count": null,
   "metadata": {},
   "outputs": [],
   "source": []
  },
  {
   "cell_type": "code",
   "execution_count": 33,
   "metadata": {},
   "outputs": [
    {
     "name": "stdout",
     "output_type": "stream",
     "text": [
      "(60, 6, 23)\n"
     ]
    },
    {
     "data": {
      "text/plain": [
       "(0,)"
      ]
     },
     "execution_count": 33,
     "metadata": {},
     "output_type": "execute_result"
    }
   ],
   "source": [
    "dF_F = trialAverageData / meanFs.reshape(1,numTrials,numROI) - 1\n",
    "dF_F[dF_F == -1] = np.nan\n",
    "print(dF_F.shape)\n",
    "(np.mean(dF_F,axis=2) == -1).nonzero()[0].shape"
   ]
  },
  {
   "cell_type": "code",
   "execution_count": 34,
   "metadata": {},
   "outputs": [
    {
     "name": "stdout",
     "output_type": "stream",
     "text": [
      "[-15, -14, -13, -12, -11, -10, -9, -8, -7, -6, -5, -4, -3, -2, -1, 0, 1, 2, 3, 4, 5, 6, 7, 8, 9, 10, 11, 12, 13, 14, 15, 16, 17, 18, 19, 20, 21, 22, 23, 24, 25, 26, 27, 28, 29, 30, 31, 32, 33, 34, 35, 36, 37, 38, 39, 40, 41, 42, 43, 44]\n"
     ]
    }
   ],
   "source": [
    "lockOffset = list(range(-zeroFrame, maxSliceWidth-zeroFrame))\n",
    "print(lockOffset)"
   ]
  },
  {
   "cell_type": "code",
   "execution_count": 35,
   "metadata": {},
   "outputs": [
    {
     "data": {
      "text/plain": [
       "Text(0.5, 1.0, '100% A, 0% B, all ROI')"
      ]
     },
     "execution_count": 35,
     "metadata": {},
     "output_type": "execute_result"
    },
    {
     "data": {
      "image/png": "[encoded data removed]",
      "text/plain": [
       "<Figure size 432x288 with 1 Axes>"
      ]
     },
     "metadata": {
      "needs_background": "light"
     },
     "output_type": "display_data"
    }
   ],
   "source": [
    "plt.plot(lockOffset, np.nanmean(dF_F, axis=1))\n",
    "plt.title(key + \", all ROI\")\n",
    "# plt.legend(list(range(1, numROI+1)))"
   ]
  },
  {
   "cell_type": "code",
   "execution_count": 36,
   "metadata": {},
   "outputs": [
    {
     "name": "stderr",
     "output_type": "stream",
     "text": [
      "/Users/jonathanshor/.local/share/virtualenvs/rinberg-rotation-6TUwHcAB/lib/python3.7/site-packages/ipykernel_launcher.py:1: RuntimeWarning: Mean of empty slice\n",
      "  \"\"\"Entry point for launching an IPython kernel.\n"
     ]
    },
    {
     "data": {
      "text/plain": [
       "<matplotlib.legend.Legend at 0x12221d518>"
      ]
     },
     "execution_count": 36,
     "metadata": {},
     "output_type": "execute_result"
    },
    {
     "data": {
      "image/png": "[encoded data removed]",
      "text/plain": [
       "<Figure size 432x288 with 1 Axes>"
      ]
     },
     "metadata": {
      "needs_background": "light"
     },
     "output_type": "display_data"
    }
   ],
   "source": [
    "plt.plot(lockOffset, np.nanmean(dF_F,axis=2))\n",
    "plt.title(key + \", 6 replicants\")\n",
    "plt.legend(list(range(1,7)))"
   ]
  },
  {
   "cell_type": "code",
   "execution_count": 37,
   "metadata": {},
   "outputs": [
    {
     "data": {
      "text/plain": [
       "Text(0.5, 1.0, '100% A, 0% B, Cross-trial Mean')"
      ]
     },
     "execution_count": 37,
     "metadata": {},
     "output_type": "execute_result"
    },
    {
     "data": {
      "image/png": "[encoded data removed]",
      "text/plain": [
       "<Figure size 432x288 with 1 Axes>"
      ]
     },
     "metadata": {
      "needs_background": "light"
     },
     "output_type": "display_data"
    }
   ],
   "source": [
    "plt.plot(lockOffset, np.nanmean(dF_F, axis=(1,2)))\n",
    "plt.title(key + \", Cross-trial Mean\")"
   ]
  }
 ],
 "metadata": {
  "kernelspec": {
   "display_name": "Python 3",
   "language": "python",
   "name": "python3"
  },
  "language_info": {
   "codemirror_mode": {
    "name": "ipython",
    "version": 3
   },
   "file_extension": ".py",
   "mimetype": "text/x-python",
   "name": "python",
   "nbconvert_exporter": "python",
   "pygments_lexer": "ipython3",
   "version": "3.7.3"
  }
 },
 "nbformat": 4,
 "nbformat_minor": 2
}
